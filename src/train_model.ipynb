{
 "cells": [
  {
   "cell_type": "code",
   "execution_count": 1,
   "id": "4d6d3388-e8e3-4f18-b027-01663d638cb8",
   "metadata": {},
   "outputs": [
    {
     "name": "stdout",
     "output_type": "stream",
     "text": [
      "KNN Model Accuracy: 0.9771\n",
      "Model saved as model.pkl\n"
     ]
    }
   ],
   "source": [
    "# train_model.py\n",
    "\n",
    "\"\"\"\n",
    "This script trains a K-Nearest Neighbors (KNN) classifier on the Breast Cancer Wisconsin dataset.\n",
    "It uses all 9 numeric features provided in the original dataset to predict whether a tumor is malignant or benign.\n",
    "\n",
    "Steps:\n",
    "1. Load dataset using ucimlrepo\n",
    "2. Preprocess:\n",
    "    - Drop ID columns if present\n",
    "    - Handle missing values\n",
    "    - Convert labels to binary (0 = benign, 1 = malignant)\n",
    "3. Split the dataset into training and test sets\n",
    "4. Train a KNN classifier\n",
    "5. Evaluate model accuracy\n",
    "6. Save the trained model as 'model.pkl'\n",
    "\n",
    "This model will later be deployed using a Flask web app on Heroku.\n",
    "\"\"\"\n",
    "\n",
    "# === Imports ===\n",
    "import pandas as pd\n",
    "from sklearn.model_selection import train_test_split\n",
    "from sklearn.impute import SimpleImputer\n",
    "from sklearn.neighbors import KNeighborsClassifier\n",
    "from sklearn.metrics import accuracy_score\n",
    "import pickle\n",
    "from ucimlrepo import fetch_ucirepo\n",
    "\n",
    "# === Step 1: Load the dataset ===\n",
    "dataset = fetch_ucirepo(id=15)  # Breast Cancer Wisconsin (Original)\n",
    "data = pd.concat([dataset.data.features, dataset.data.targets], axis=1)\n",
    "\n",
    "# Rename target column to 'Target' and map labels (2 = benign, 4 = malignant) to (0, 1)\n",
    "data.rename(columns={'Class': 'Target'}, inplace=True)\n",
    "data['Target'] = data['Target'].map({2: 0, 4: 1})\n",
    "\n",
    "# === Step 2: Select all 9 features ===\n",
    "feature_columns = [\n",
    "    'Clump_thickness', 'Uniformity_of_cell_size', 'Uniformity_of_cell_shape',\n",
    "    'Marginal_adhesion', 'Single_epithelial_cell_size', 'Bare_nuclei',\n",
    "    'Bland_chromatin', 'Normal_nucleoli', 'Mitoses'\n",
    "]\n",
    "X = data[feature_columns]\n",
    "y = data['Target']\n",
    "\n",
    "# === Step 3: Handle missing values ===\n",
    "imputer = SimpleImputer(strategy='mean')\n",
    "X_imputed = pd.DataFrame(imputer.fit_transform(X), columns=feature_columns)\n",
    "\n",
    "# === Step 4: Split the data ===\n",
    "X_train, X_test, y_train, y_test = train_test_split(X_imputed, y, test_size=0.25, random_state=42)\n",
    "\n",
    "# === Step 5: Train KNN classifier ===\n",
    "model = KNeighborsClassifier(n_neighbors=5)\n",
    "model.fit(X_train, y_train)\n",
    "\n",
    "# === Step 6: Evaluate and save ===\n",
    "y_pred = model.predict(X_test)\n",
    "accuracy = accuracy_score(y_test, y_pred)\n",
    "print(f\"KNN Model Accuracy: {accuracy:.4f}\")\n",
    "\n",
    "# Save the model\n",
    "with open('model.pkl', 'wb') as f:\n",
    "    pickle.dump(model, f)\n",
    "\n",
    "print(\"Model saved as model.pkl\")\n"
   ]
  },
  {
   "cell_type": "code",
   "execution_count": null,
   "id": "5d1597f1-6455-4cf5-a1e0-1c3ac4ff0ec0",
   "metadata": {},
   "outputs": [],
   "source": []
  }
 ],
 "metadata": {
  "kernelspec": {
   "display_name": "Python [conda env:base] *",
   "language": "python",
   "name": "conda-base-py"
  },
  "language_info": {
   "codemirror_mode": {
    "name": "ipython",
    "version": 3
   },
   "file_extension": ".py",
   "mimetype": "text/x-python",
   "name": "python",
   "nbconvert_exporter": "python",
   "pygments_lexer": "ipython3",
   "version": "3.12.3"
  }
 },
 "nbformat": 4,
 "nbformat_minor": 5
}
